{
 "cells": [
  {
   "cell_type": "code",
   "execution_count": 2,
   "metadata": {},
   "outputs": [],
   "source": [
    "import numpy as np\n",
    "import pandas as pd"
   ]
  },
  {
   "cell_type": "markdown",
   "metadata": {},
   "source": [
    "1. Em uma pesquisa sobre atividades de lazer realizada com uma amostra de 20 alunos de um campus universitário, perguntou-se o número de horas que os alunos gastaram “navegando” na Internet na semana anterior. Os resultados obtidos foram os seguintes:\n",
    "        15 24 18 8 10 12 15 14 12 10\n",
    "        18 12 6 20 18 16 10 12 15 9\n",
    "Calcule a amplitude, o desvio médio absoluto e o desvio padrão desses dados, especificando as respectivas unidades."
   ]
  },
  {
   "cell_type": "code",
   "execution_count": 6,
   "metadata": {},
   "outputs": [
    {
     "name": "stdout",
     "output_type": "stream",
     "text": [
      "18\n",
      "4.461531481217491\n",
      "3.6\n"
     ]
    }
   ],
   "source": [
    "q3 = pd.Series([15, 24, 18, 8, 10, 12, 15, 14, 12, 10 , 18, 12, 6, 20, 18, 16, 10, 12, 15, 9])\n",
    "print(q3.max() - q3.min())\n",
    "print(q3.std())\n",
    "print(q3.mad())"
   ]
  },
  {
   "cell_type": "markdown",
   "metadata": {},
   "source": [
    "2. Continuação do Exercício 3.4 No final do ano 2005, o dono de um pequeno escritório de administração deu a seus 8 funcionários uma gratificação de 250 reais, paga junto com o salário de dezembro. Se em novembro o desvio padrão dos salários desses funcionários era de 180\n",
    "reais, qual o desvio padrão dos salários em dezembro? Que propriedades você utilizou para chegar a esse resultado?"
   ]
  },
  {
   "cell_type": "markdown",
   "metadata": {},
   "source": [
    "        Os mesmo 180 reais\n",
    "       "
   ]
  },
  {
   "cell_type": "markdown",
   "metadata": {},
   "source": [
    "3. Continuação do Exercício  3.5 No mês de dissídio de determinada categoria trabalhista, os funcionários de uma empresa tiveram reajuste salarial de 8,9%. Se no mês anterior ao dissídio o desvio padrão dos salários desses funcionários era de 220 reais, qual o valor do desvio padrão dos salários depois do reajuste? Que propriedades você utilizou para chegar a esse resultado?"
   ]
  },
  {
   "cell_type": "markdown",
   "metadata": {},
   "source": [
    "        220 * 1.089 = 239.58 reais"
   ]
  }
 ],
 "metadata": {
  "kernelspec": {
   "display_name": "Python 3",
   "language": "python",
   "name": "python3"
  },
  "language_info": {
   "codemirror_mode": {
    "name": "ipython",
    "version": 3
   },
   "file_extension": ".py",
   "mimetype": "text/x-python",
   "name": "python",
   "nbconvert_exporter": "python",
   "pygments_lexer": "ipython3",
   "version": "3.6.5"
  }
 },
 "nbformat": 4,
 "nbformat_minor": 2
}
