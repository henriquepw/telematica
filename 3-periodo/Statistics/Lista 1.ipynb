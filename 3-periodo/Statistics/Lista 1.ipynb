{
 "cells": [
  {
   "cell_type": "markdown",
   "metadata": {},
   "source": [
    "## 1º Exercício - Numpy\n",
    "\n",
    "Estatística Aplicada à Computação - 18.2\n",
    "Prof. Paulo Ribeiro\n",
    "\n",
    "**1)** Construa a matriz a seguir, usando numpy, sem entrar diretamente com os valores e gere uma nova matriz somente com os elementos da segunda e quarta colunas."
   ]
  },
  {
   "cell_type": "code",
   "execution_count": 1,
   "metadata": {},
   "outputs": [],
   "source": [
    "import numpy as np\n",
    "import matplotlib.pyplot as plt\n",
    "from random import randint"
   ]
  },
  {
   "cell_type": "code",
   "execution_count": 2,
   "metadata": {},
   "outputs": [
    {
     "data": {
      "text/plain": [
       "matrix([[ 1,  6, 11],\n",
       "        [ 2,  7, 12],\n",
       "        [ 3,  8, 13],\n",
       "        [ 4,  9, 14],\n",
       "        [ 5, 10, 15]])"
      ]
     },
     "execution_count": 2,
     "metadata": {},
     "output_type": "execute_result"
    }
   ],
   "source": [
    "matrix = np.matrix([ range(1,6), range(6,11), range(11,16)])\n",
    "matrix.transpose()"
   ]
  },
  {
   "cell_type": "markdown",
   "metadata": {},
   "source": [
    "**2)** Crie um vetor A com valores variando de 10 à 49, um vetor B variando de 1 à 39 e um vetor C de 10 à 20. Então realize e comente a saída das seguintes operações:"
   ]
  },
  {
   "cell_type": "code",
   "execution_count": 5,
   "metadata": {},
   "outputs": [],
   "source": [
    "A = np.array([randint(10, 49) for x in range(10)])\n",
    "B = np.array([randint(1, 39) for x in range(10)])\n",
    "C = np.array([randint(10, 20) for x in range(10)])"
   ]
  },
  {
   "cell_type": "markdown",
   "metadata": {},
   "source": [
    "    a) A + B\n",
    "    b) A * B\n",
    "    c) A + C\n",
    "    d) B * C"
   ]
  },
  {
   "cell_type": "code",
   "execution_count": 6,
   "metadata": {},
   "outputs": [
    {
     "name": "stdout",
     "output_type": "stream",
     "text": [
      "[43 43 57 72 76 41 80 42 44 47]\n",
      "[ 420  330  770 1127 1323  414 1599  440  480   90]\n",
      "[30 47 35 67 65 30 53 40 39 65]\n",
      "[420 140 455 414 432 276 468 360 456  40]\n"
     ]
    }
   ],
   "source": [
    "print(A+B)\n",
    "print(A*B)\n",
    "print(A+C)\n",
    "print(B*C)"
   ]
  },
  {
   "cell_type": "markdown",
   "metadata": {},
   "source": [
    "**3)** Crie uma matriz  3×3 , com elementos variando de 0 à 8."
   ]
  },
  {
   "cell_type": "code",
   "execution_count": null,
   "metadata": {},
   "outputs": [],
   "source": [
    "np.random.rand(3,3)"
   ]
  },
  {
   "cell_type": "markdown",
   "metadata": {},
   "source": [
    "**4)** Crie uma matriz  3×3×3  com elementos aleatórios."
   ]
  },
  {
   "cell_type": "code",
   "execution_count": 8,
   "metadata": {},
   "outputs": [
    {
     "data": {
      "text/plain": [
       "array([[[0.56991745, 0.5930118 , 0.43266085],\n",
       "        [0.35882986, 0.04659759, 0.49962108],\n",
       "        [0.55922672, 0.35413962, 0.69145032]],\n",
       "\n",
       "       [[0.38455659, 0.70954387, 0.65084653],\n",
       "        [0.75706412, 0.47740216, 0.25667536],\n",
       "        [0.89078552, 0.09126828, 0.20404656]],\n",
       "\n",
       "       [[0.37588278, 0.46573855, 0.22685336],\n",
       "        [0.31587538, 0.57428724, 0.72975621],\n",
       "        [0.05824787, 0.63671357, 0.01102556]]])"
      ]
     },
     "execution_count": 8,
     "metadata": {},
     "output_type": "execute_result"
    }
   ],
   "source": [
    "np.random.rand(3,3,3)"
   ]
  },
  {
   "cell_type": "markdown",
   "metadata": {},
   "source": [
    "**5)** Usando a função sin do numpy, e a função plot da matplotlib, módulo de geração de gráficos, plote um gráfico contendo os dois primeiros períodos de uma senóide."
   ]
  },
  {
   "cell_type": "code",
   "execution_count": 7,
   "metadata": {},
   "outputs": [
    {
     "data": {
      "image/png": "[encoded data removed]",
      "text/plain": [
       "<Figure size 432x288 with 1 Axes>"
      ]
     },
     "metadata": {},
     "output_type": "display_data"
    }
   ],
   "source": [
    "a = np.linspace(-np.pi, np.pi, 1000)\n",
    "b = np.sin(a)\n",
    "plt.plot(a, b)\n",
    "plt.show()"
   ]
  },
  {
   "cell_type": "code",
   "execution_count": null,
   "metadata": {},
   "outputs": [],
   "source": []
  },
  {
   "cell_type": "code",
   "execution_count": null,
   "metadata": {},
   "outputs": [],
   "source": []
  },
  {
   "cell_type": "code",
   "execution_count": null,
   "metadata": {},
   "outputs": [],
   "source": []
  }
 ],
 "metadata": {
  "kernelspec": {
   "display_name": "Python 3",
   "language": "python",
   "name": "python3"
  },
  "language_info": {
   "codemirror_mode": {
    "name": "ipython",
    "version": 3
   },
   "file_extension": ".py",
   "mimetype": "text/x-python",
   "name": "python",
   "nbconvert_exporter": "python",
   "pygments_lexer": "ipython3",
   "version": "3.6.5"
  }
 },
 "nbformat": 4,
 "nbformat_minor": 2
}
