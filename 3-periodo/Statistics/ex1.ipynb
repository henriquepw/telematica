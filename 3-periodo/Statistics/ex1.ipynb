{
 "cells": [
  {
   "cell_type": "markdown",
   "metadata": {},
   "source": [
    "# Exercício\n",
    "\n",
    "1} A tabela abaixo representa dados de aluguéis de salas comerciais em shoppings da mesma rede, em **3** cidades. Sabe-se que na cidade **B** os valores são 30% mais caros e, na cidade **C**, os preços são feitos subtraindo-se dos preços da cidade **A**, a diferença, em módulo entre a média da cidade **A**.\n",
    "   \n",
    "Preencha os preços das cidades **B** e **C** usando:\n",
    "\n",
    "    a} Com listas\n",
    "    b} Com discionários"
   ]
  },
  {
   "cell_type": "markdown",
   "metadata": {},
   "source": [
    "#### Resposta"
   ]
  },
  {
   "cell_type": "code",
   "execution_count": 4,
   "metadata": {
    "collapsed": true
   },
   "outputs": [],
   "source": [
    "def modulo(x):\n",
    "    return x if x >= 0 else -1 * x"
   ]
  },
  {
   "cell_type": "markdown",
   "metadata": {},
   "source": [
    "    a} Com listas"
   ]
  },
  {
   "cell_type": "code",
   "execution_count": 5,
   "metadata": {},
   "outputs": [
    {
     "name": "stdout",
     "output_type": "stream",
     "text": [
      "[2460.00][3198.00][1756.83]\n",
      "[3195.00][4153.50][3163.17]\n",
      "[4095.00][5323.50][3163.17]\n",
      "[2972.00][3863.60][2780.83]\n",
      "[3195.00][4153.50][3163.17]\n",
      "[3062.00][3980.60][2960.83]\n"
     ]
    }
   ],
   "source": [
    "cidade_a = [2460.0, 3195.0, 4095.0, 2972.0, 3195.0, 3062.0]\n",
    "cidade_b, cidade_c = [],[]\n",
    "media_a = 0\n",
    "for a in cidade_a:\n",
    "    cidade_b.append(a*1.3)\n",
    "    media_a += a\n",
    "\n",
    "media_a /= len(cidade_a)\n",
    "# media_a += x for x in cidade_a\n",
    "\n",
    "for a in cidade_a:\n",
    "    cidade_c.append(a - modulo(a - media_a))\n",
    "\n",
    "for i in range(len(cidade_a)):\n",
    "    print(\"[{0:.2f}][{1:.2f}][{2:.2f}]\".format(cidade_a[i], cidade_b[i], cidade_c[i]))\n",
    "    \n",
    "    "
   ]
  },
  {
   "cell_type": "markdown",
   "metadata": {},
   "source": [
    "    b} Com discionários:"
   ]
  },
  {
   "cell_type": "code",
   "execution_count": 6,
   "metadata": {},
   "outputs": [
    {
     "name": "stdout",
     "output_type": "stream",
     "text": [
      "[2460.00][3198.00][1756.83]\n",
      "[3195.00][4153.50][3163.17]\n",
      "[4095.00][5323.50][3163.17]\n",
      "[2972.00][3863.60][2780.83]\n",
      "[3195.00][4153.50][3163.17]\n",
      "[3062.00][3980.60][2960.83]\n"
     ]
    }
   ],
   "source": [
    "cidade_a = {\"0\": 2460.0,\"1\": 3195.0,\"2\": 4095.0,\"3\": 2972.0,\"4\": 3195.0,\"5\": 3062.0}\n",
    "cidade_b, cidade_c = {},{}\n",
    "media_a = 0\n",
    "for a in cidade_a.keys():\n",
    "    cidade_b[a] = cidade_a[a]*1.3\n",
    "    media_a += cidade_a[a]\n",
    "\n",
    "media_a /= len(cidade_a)\n",
    "# media_a += x for x in cidade_a\n",
    "\n",
    "for a in cidade_a.keys():\n",
    "    cidade_c[a] = (cidade_a[a] - modulo(cidade_a[a] - media_a))\n",
    "\n",
    "for i in cidade_a.keys():\n",
    "    print(\"[{0:.2f}][{1:.2f}][{2:.2f}]\".format(cidade_a[i], cidade_b[i], cidade_c[i]))\n",
    " "
   ]
  },
  {
   "cell_type": "code",
   "execution_count": null,
   "metadata": {
    "collapsed": true
   },
   "outputs": [],
   "source": []
  }
 ],
 "metadata": {
  "kernelspec": {
   "display_name": "Python 3",
   "language": "python",
   "name": "python3"
  },
  "language_info": {
   "codemirror_mode": {
    "name": "ipython",
    "version": 3
   },
   "file_extension": ".py",
   "mimetype": "text/x-python",
   "name": "python",
   "nbconvert_exporter": "python",
   "pygments_lexer": "ipython3",
   "version": "3.6.1"
  }
 },
 "nbformat": 4,
 "nbformat_minor": 2
}
