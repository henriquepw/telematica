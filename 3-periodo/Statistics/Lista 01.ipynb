{
 "cells": [
  {
   "cell_type": "code",
   "execution_count": 47,
   "metadata": {},
   "outputs": [
    {
     "name": "stdout",
     "output_type": "stream",
     "text": [
      "[[0 1 2]\n",
      " [3 4 5]\n",
      " [6 7 8]]\n"
     ]
    }
   ],
   "source": [
    "import numpy as np\n",
    "\n",
    "lista = [[] for _ in range(3)]\n",
    "i = 0\n",
    "for x in np.arange(1, 10):\n",
    "    lista[i].append(x-1)\n",
    "    if x % 3 == 0: \n",
    "        i += 1\n",
    "        \n",
    "q3 = np.array(lista)\n",
    "print(q3)"
   ]
  },
  {
   "cell_type": "code",
   "execution_count": 42,
   "metadata": {},
   "outputs": [
    {
     "name": "stdout",
     "output_type": "stream",
     "text": [
      "[[0 3 6]\n",
      " [1 4 7]\n",
      " [2 5 8]]\n"
     ]
    }
   ],
   "source": [
    "print(q3.transpose())"
   ]
  },
  {
   "cell_type": "code",
   "execution_count": 41,
   "metadata": {},
   "outputs": [
    {
     "name": "stdout",
     "output_type": "stream",
     "text": [
      "[[[0.78446499 0.23659595 0.73636781]\n",
      "  [0.68362519 0.0780498  0.9790371 ]\n",
      "  [0.18883346 0.40935862 0.46402194]]\n",
      "\n",
      " [[0.56072667 0.13079824 0.57929419]\n",
      "  [0.62587515 0.73267195 0.68253793]\n",
      "  [0.26317469 0.66435141 0.38967316]]\n",
      "\n",
      " [[0.79086592 0.03555249 0.00572439]\n",
      "  [0.60148683 0.51065508 0.04120349]\n",
      "  [0.53975881 0.08935896 0.85157195]]]\n"
     ]
    }
   ],
   "source": [
    "print(np.random.rand(3,3,3))"
   ]
  },
  {
   "cell_type": "code",
   "execution_count": null,
   "metadata": {},
   "outputs": [],
   "source": []
  }
 ],
 "metadata": {
  "kernelspec": {
   "display_name": "Python 3",
   "language": "python",
   "name": "python3"
  },
  "language_info": {
   "codemirror_mode": {
    "name": "ipython",
    "version": 3
   },
   "file_extension": ".py",
   "mimetype": "text/x-python",
   "name": "python",
   "nbconvert_exporter": "python",
   "pygments_lexer": "ipython3",
   "version": "3.6.5"
  }
 },
 "nbformat": 4,
 "nbformat_minor": 2
}
