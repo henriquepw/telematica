{
 "cells": [
  {
   "cell_type": "code",
   "execution_count": 2,
   "metadata": {},
   "outputs": [],
   "source": [
    "import numpy as np\n",
    "import pandas as pd"
   ]
  },
  {
   "cell_type": "markdown",
   "metadata": {},
   "source": [
    "### Exercícios\n",
    "\n",
    "1. Quatro amigos trabalham em um supermercado em tempo parcial com os seguintes salários horários:\n",
    "        Pedro: R$ 3,50  | João: R$ 2,60\n",
    "        Marcos: R$ 3,80 | Luiz: R$ 2,20\n",
    "Se Pedro trabalha 10 horas por semana, João 12 horas, Marcos 15 horas e Luiz 8 horas, qual é o salário horário médio desses quatro amigos?"
   ]
  },
  {
   "cell_type": "code",
   "execution_count": 6,
   "metadata": {},
   "outputs": [
    {
     "data": {
      "text/plain": [
       "35.2"
      ]
     },
     "execution_count": 6,
     "metadata": {},
     "output_type": "execute_result"
    }
   ],
   "source": [
    "q1 = pd.Series([3.5*10, 2.6*12, 3.8*15, 2.2*8])\n",
    "q1.mean()"
   ]
  },
  {
   "cell_type": "markdown",
   "metadata": {},
   "source": [
    "2. Na UFF, o coeficiente de rendimento (CR) semestral dos alunos é calculado como uma média das notas finais nas disciplinas cursadas, levando em conta a carga horária (ou crédito) das disciplinas, de modo que disciplinas com maior carga horária têm maior peso no CR. Suponha que um aluno tenha cursado 5 disciplinas em um semestre, obtendo médias finais de 7,5; 6,1; 8,3; 6,5; 7,5. As três primeiras disciplinas tinham carga horária de 4 horas semanais, a quarta, carga horária de 6 horas e a última, 2 horas semanais. Calcule o CR do aluno nesse semestre."
   ]
  },
  {
   "cell_type": "code",
   "execution_count": 10,
   "metadata": {},
   "outputs": [
    {
     "data": {
      "text/plain": [
       "7.08"
      ]
     },
     "execution_count": 10,
     "metadata": {},
     "output_type": "execute_result"
    }
   ],
   "source": [
    "q2 = pd.Series([7.5*4, 6.1*4, 8.3*4, 6.5*6, 7.5*2])\n",
    "q2.sum()/20"
   ]
  },
  {
   "cell_type": "markdown",
   "metadata": {},
   "source": [
    "3. Em uma pesquisa sobre atividades de lazer realizada com uma amostra de 20 alunos de um campus universitário, perguntou-se o número de horas que os alunos gastaram “navegando” na Internet na semana anterior. Os resultados obtidos foram os seguintes:\n",
    "        15 24 18 8 10 12 15 14 12 10\n",
    "        18 12 6 20 18 16 10 12 15 9\n",
    "Calcule a média, a moda e a mediana desses dados, especificando as respectivas unidades."
   ]
  },
  {
   "cell_type": "code",
   "execution_count": 15,
   "metadata": {},
   "outputs": [
    {
     "name": "stdout",
     "output_type": "stream",
     "text": [
      "13.7\n",
      "13.0\n",
      "0    12\n",
      "dtype: int64\n"
     ]
    }
   ],
   "source": [
    "q3 = pd.Series([15, 24, 18, 8, 10, 12, 15, 14, 12, 10 , 18, 12, 6, 20, 18, 16, 10, 12, 15, 9])\n",
    "print(q3.mean())\n",
    "print(q3.median())\n",
    "print(q3.mode())"
   ]
  },
  {
   "cell_type": "markdown",
   "metadata": {},
   "source": [
    "4. No final do ano 2005, o dono de um pequeno escritório de administração deu a seus 8 funcionários uma gratificação de 250 reais, paga junto com o salário de dezembro. Se em novembro o salário médio desses funcionários era de 920 reais, qual o salário médio em dezembro? Que propriedades você utilizou para chegar a esse resultado?"
   ]
  },
  {
   "cell_type": "markdown",
   "metadata": {},
   "source": [
    "        920 + 250 = 1200\n",
    "        se todos aumentaram o mesmo tanto, a media também aumentar o mesmo"
   ]
  },
  {
   "cell_type": "markdown",
   "metadata": {},
   "source": [
    "5. No mês de dissídio de determinada categoria trabalhista, os funcionários de uma empresa tiveram reajuste salarial de 8,9%. Se no mês anterior ao dissídio o salário médio desses funcionários era de 580 reais, qual o valor do salário médio depois do reajuste? Que propriedades você utilizou para chegar a esse resultado?"
   ]
  },
  {
   "cell_type": "markdown",
   "metadata": {},
   "source": [
    "        580 * 1.089 = 631.62"
   ]
  },
  {
   "cell_type": "markdown",
   "metadata": {},
   "source": [
    "6. O número médio de empregados das empresas industriais do setor de fabricação de bebidas em determinado momento era de 117 empregados, enquanto o número mediano era de 27. Dê uma explicação para a diferença entre essas medidas de tendência central."
   ]
  },
  {
   "cell_type": "markdown",
   "metadata": {},
   "source": [
    "        A concentração de empregados fica mais perto de valores menores"
   ]
  },
  {
   "cell_type": "markdown",
   "metadata": {},
   "source": [
    "7. Na tabela a seguir temos o número de empresas por faixa de pessoal ocupado (PO) do setor de fabricação de bebidas em determinado momento. Calcule a média e a mediana dessa distribuição, especificando as respectivas unidades. \n",
    "\n",
    "Classe de PO | Número de empresas\n",
    "        -----|-------\n",
    "[10, 30)     | 489\n",
    "[30, 100)    | 269\n",
    "[100, 500)   | 117\n",
    "[500, 1000)  | 15\n",
    "[1000, 2000) | 9\n",
    "[2000, 4000) | 7"
   ]
  },
  {
   "cell_type": "code",
   "execution_count": 19,
   "metadata": {},
   "outputs": [
    {
     "name": "stdout",
     "output_type": "stream",
     "text": [
      "151.0\n",
      "66.0\n"
     ]
    }
   ],
   "source": [
    "q7 = pd.Series([489, 269, 117, 15, 9, 7])\n",
    "print(q7.mean())\n",
    "print(q7.median())"
   ]
  },
  {
   "cell_type": "code",
   "execution_count": null,
   "metadata": {},
   "outputs": [],
   "source": []
  }
 ],
 "metadata": {
  "kernelspec": {
   "display_name": "Python 3",
   "language": "python",
   "name": "python3"
  },
  "language_info": {
   "codemirror_mode": {
    "name": "ipython",
    "version": 3
   },
   "file_extension": ".py",
   "mimetype": "text/x-python",
   "name": "python",
   "nbconvert_exporter": "python",
   "pygments_lexer": "ipython3",
   "version": "3.6.5"
  }
 },
 "nbformat": 4,
 "nbformat_minor": 2
}
