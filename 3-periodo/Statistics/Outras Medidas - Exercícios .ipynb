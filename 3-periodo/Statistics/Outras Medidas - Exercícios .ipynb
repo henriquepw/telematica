{
 "cells": [
  {
   "cell_type": "code",
   "execution_count": 12,
   "metadata": {},
   "outputs": [],
   "source": [
    "import pandas as pd\n",
    "import matplotlib.pyplot as plt"
   ]
  },
  {
   "cell_type": "markdown",
   "metadata": {},
   "source": [
    "1. Os dados a seguir representam o número de apólices de seguro que um corretor conseguiu vender em cada um de seus 20 primeiros dias em um emprego novo: 2, 4, 6, 3, 2, 1, 4, 3, 5, 2, 1, 1, 4, 0, 2, 2, 5, 2, 2, 1. Analise a assimetria da distribuição, utilizando os coeficientes de Pearson e de Bowley"
   ]
  },
  {
   "cell_type": "code",
   "execution_count": 34,
   "metadata": {},
   "outputs": [
    {
     "data": {
      "text/plain": [
       "0.7777777777777778"
      ]
     },
     "execution_count": 34,
     "metadata": {},
     "output_type": "execute_result"
    }
   ],
   "source": [
    "q1 = pd.Series([2, 4, 6, 3, 2, 1, 4, 3, 5, 2, 1, 1, 4, 0, 2, 2, 5, 2, 2, 1])\n",
    "quantiles1 = q1.quantile([.25, .5, .75])\n",
    "\n",
    "bowley = ((quantiles1[0.75] - quantiles1[0.5]) - (quantiles1[0.5] - quantiles1[0.25])) \n",
    "bowley = bowley / ((quantiles1[0.75] - quantiles1[0.5]) + (quantiles1[0.5] - quantiles1[0.25])) \n",
    "bowley\n",
    "\n",
    "# a assimentria está mais à direita, ou seja, q1 está mais proximo de q2"
   ]
  },
  {
   "cell_type": "code",
   "execution_count": 32,
   "metadata": {},
   "outputs": [
    {
     "data": {
      "text/plain": [
       "{'whiskers': [<matplotlib.lines.Line2D at 0x2227d2f8898>,\n",
       "  <matplotlib.lines.Line2D at 0x2227d2f8d30>],\n",
       " 'caps': [<matplotlib.lines.Line2D at 0x2227d641198>,\n",
       "  <matplotlib.lines.Line2D at 0x2227d6415c0>],\n",
       " 'boxes': [<matplotlib.lines.Line2D at 0x2227d2f8748>],\n",
       " 'medians': [<matplotlib.lines.Line2D at 0x2227d6419e8>],\n",
       " 'fliers': [<matplotlib.lines.Line2D at 0x2227d641e10>],\n",
       " 'means': []}"
      ]
     },
     "execution_count": 32,
     "metadata": {},
     "output_type": "execute_result"
    },
    {
     "data": {
      "image/png": "[encoded data removed]",
      "text/plain": [
       "<Figure size 432x288 with 1 Axes>"
      ]
     },
     "metadata": {},
     "output_type": "display_data"
    }
   ],
   "source": [
    "plt.boxplot(q1)"
   ]
  },
  {
   "cell_type": "markdown",
   "metadata": {},
   "source": [
    "2. O professor Celso tem duas opções de caminho para se dirigir da sua casa até seu local de trabalho. Tentando definir qual o melhor caminho, ele anota o tempo de viagem em diferentes dias, obtendo os seguintes tempos (em minutos):\n",
    "    \n",
    "        Caminho 1: 12 11 10 10 8 12 15 7 20 12\n",
    "        Caminho 2: 12 15 13 13 14 13 12 14 13 15\n",
    "\n",
    "    Faça uma análise comparativa desses dados para ajudar o professor Celso a escolher um caminho."
   ]
  },
  {
   "cell_type": "code",
   "execution_count": 3,
   "metadata": {},
   "outputs": [
    {
     "data": {
      "text/html": [
       "<div>\n",
       "<style scoped>\n",
       "    .dataframe tbody tr th:only-of-type {\n",
       "        vertical-align: middle;\n",
       "    }\n",
       "\n",
       "    .dataframe tbody tr th {\n",
       "        vertical-align: top;\n",
       "    }\n",
       "\n",
       "    .dataframe thead th {\n",
       "        text-align: right;\n",
       "    }\n",
       "</style>\n",
       "<table border=\"1\" class=\"dataframe\">\n",
       "  <thead>\n",
       "    <tr style=\"text-align: right;\">\n",
       "      <th></th>\n",
       "      <th>Caminho 1</th>\n",
       "      <th>Caminho 2</th>\n",
       "    </tr>\n",
       "  </thead>\n",
       "  <tbody>\n",
       "    <tr>\n",
       "      <th>count</th>\n",
       "      <td>10.000000</td>\n",
       "      <td>10.000000</td>\n",
       "    </tr>\n",
       "    <tr>\n",
       "      <th>mean</th>\n",
       "      <td>11.700000</td>\n",
       "      <td>13.400000</td>\n",
       "    </tr>\n",
       "    <tr>\n",
       "      <th>std</th>\n",
       "      <td>3.683296</td>\n",
       "      <td>1.074968</td>\n",
       "    </tr>\n",
       "    <tr>\n",
       "      <th>min</th>\n",
       "      <td>7.000000</td>\n",
       "      <td>12.000000</td>\n",
       "    </tr>\n",
       "    <tr>\n",
       "      <th>25%</th>\n",
       "      <td>10.000000</td>\n",
       "      <td>13.000000</td>\n",
       "    </tr>\n",
       "    <tr>\n",
       "      <th>50%</th>\n",
       "      <td>11.500000</td>\n",
       "      <td>13.000000</td>\n",
       "    </tr>\n",
       "    <tr>\n",
       "      <th>75%</th>\n",
       "      <td>12.000000</td>\n",
       "      <td>14.000000</td>\n",
       "    </tr>\n",
       "    <tr>\n",
       "      <th>max</th>\n",
       "      <td>20.000000</td>\n",
       "      <td>15.000000</td>\n",
       "    </tr>\n",
       "  </tbody>\n",
       "</table>\n",
       "</div>"
      ],
      "text/plain": [
       "       Caminho 1  Caminho 2\n",
       "count  10.000000  10.000000\n",
       "mean   11.700000  13.400000\n",
       "std     3.683296   1.074968\n",
       "min     7.000000  12.000000\n",
       "25%    10.000000  13.000000\n",
       "50%    11.500000  13.000000\n",
       "75%    12.000000  14.000000\n",
       "max    20.000000  15.000000"
      ]
     },
     "execution_count": 3,
     "metadata": {},
     "output_type": "execute_result"
    }
   ],
   "source": [
    "q2 = pd.DataFrame({\n",
    "    'Caminho 1': [12, 11, 10, 10, 8, 12, 15, 7, 20, 12],\n",
    "    'Caminho 2': [12, 15, 13, 13, 14, 13, 12, 14, 13, 15]})\n",
    "\n",
    "q2.describe()"
   ]
  },
  {
   "cell_type": "markdown",
   "metadata": {},
   "source": [
    "    O melhor caminho é o caminho 2, apesar dele ter uma media maior, ele tem um desvio padrão menor, ou seja, ele tende a um valor constante, é mais previsivel, comparado ao caminho 1"
   ]
  },
  {
   "cell_type": "markdown",
   "metadata": {},
   "source": [
    "3. Em sua polpítica de fidelização de clientes, determinado supermercado tem uma promoção de dar descontos especiais diferenciados no mês do aniversário do cliente. O desconto básico é de 5%, mas clientes especiais – aqueles com pontuação alta – podem receber prêmios adicionais, que variam a cada mês e de filial para filial. A seguir você tem os pontos dos clientes aniversariantes de determinado mês em uma das filiais do supermercado.\n",
    "\n",
    "                77 69 72 73 71 75 75 74 71 72 74 73 75 71 74\n",
    "                73 78 77 74 75 69 76 76 80 74 85 74 73 72 74\n",
    "\n",
    "    a) Construa o gráfico ramo-e-folhas e comente suas principais características.\n",
    "    \n",
    "    b) Calcule a mediana e o intervalo interquartil IQ.\n",
    "    \n",
    "    c) Construa o boxplot e comente suas principais características.\n",
    "    \n",
    "    d) Essa filial dá uma garrafa de champagne para seus clientes especiais, segundo a seguinte regra: a cada mês, os clientes com pontuação acima do terceiro quartil por 1,5 vezes o intervalo interquartil serão premiados. Algum cliente ganhará a garrafa de champagne nesse mês?"
   ]
  },
  {
   "cell_type": "code",
   "execution_count": 4,
   "metadata": {},
   "outputs": [],
   "source": [
    "q3 = pd.Series([\n",
    "    77, 69, 72, 73, 71, 75, 75, 74, 71, 72, 74, 73, 75, 71, 74, \n",
    "    73, 78, 77, 74, 75, 69, 76, 76, 80, 74, 85, 74, 73, 72, 74])"
   ]
  },
  {
   "cell_type": "code",
   "execution_count": 5,
   "metadata": {},
   "outputs": [
    {
     "data": {
      "text/plain": [
       "count    30.000000\n",
       "mean     74.200000\n",
       "std       3.188341\n",
       "min      69.000000\n",
       "25%      72.250000\n",
       "50%      74.000000\n",
       "75%      75.000000\n",
       "max      85.000000\n",
       "dtype: float64"
      ]
     },
     "execution_count": 5,
     "metadata": {},
     "output_type": "execute_result"
    }
   ],
   "source": [
    "q3.describe()"
   ]
  },
  {
   "cell_type": "code",
   "execution_count": null,
   "metadata": {},
   "outputs": [],
   "source": []
  },
  {
   "cell_type": "code",
   "execution_count": 14,
   "metadata": {},
   "outputs": [
    {
     "data": {
      "text/plain": [
       "74.0"
      ]
     },
     "execution_count": 14,
     "metadata": {},
     "output_type": "execute_result"
    }
   ],
   "source": [
    "q3.median() # mediana"
   ]
  },
  {
   "cell_type": "code",
   "execution_count": 26,
   "metadata": {},
   "outputs": [
    {
     "data": {
      "text/plain": [
       "2.75"
      ]
     },
     "execution_count": 26,
     "metadata": {},
     "output_type": "execute_result"
    }
   ],
   "source": [
    "quantile = q3.quantile([.25, .75])\n",
    "iq = quantile[0.75] - quantile[0.25] # intervalo interquartil\n",
    "iq"
   ]
  },
  {
   "cell_type": "code",
   "execution_count": 25,
   "metadata": {},
   "outputs": [
    {
     "data": {
      "text/plain": [
       "{'whiskers': [<matplotlib.lines.Line2D at 0x2227d5efd68>,\n",
       "  <matplotlib.lines.Line2D at 0x2227d5f9240>],\n",
       " 'caps': [<matplotlib.lines.Line2D at 0x2227d5f9668>,\n",
       "  <matplotlib.lines.Line2D at 0x2227d5f9a90>],\n",
       " 'boxes': [<matplotlib.lines.Line2D at 0x2227d5efc18>],\n",
       " 'medians': [<matplotlib.lines.Line2D at 0x2227d5f9eb8>],\n",
       " 'fliers': [<matplotlib.lines.Line2D at 0x2227d602320>],\n",
       " 'means': []}"
      ]
     },
     "execution_count": 25,
     "metadata": {},
     "output_type": "execute_result"
    },
    {
     "data": {
      "image/png": "[encoded data removed]",
      "text/plain": [
       "<Figure size 432x288 with 1 Axes>"
      ]
     },
     "metadata": {},
     "output_type": "display_data"
    }
   ],
   "source": [
    "plt.boxplot(q3) # boxplot"
   ]
  },
  {
   "cell_type": "code",
   "execution_count": 28,
   "metadata": {},
   "outputs": [
    {
     "name": "stdout",
     "output_type": "stream",
     "text": [
      "80\n",
      "85\n"
     ]
    }
   ],
   "source": [
    "acima = quantile[0.75] + 1.5*iq\n",
    "for i in q3:\n",
    "    if i > acima:\n",
    "        print(i)"
   ]
  },
  {
   "cell_type": "markdown",
   "metadata": {},
   "source": [
    "d) Sim, 2 clientes ganharam a garrafa de champagne, que são os outliers"
   ]
  }
 ],
 "metadata": {
  "kernelspec": {
   "display_name": "Python 3",
   "language": "python",
   "name": "python3"
  },
  "language_info": {
   "codemirror_mode": {
    "name": "ipython",
    "version": 3
   },
   "file_extension": ".py",
   "mimetype": "text/x-python",
   "name": "python",
   "nbconvert_exporter": "python",
   "pygments_lexer": "ipython3",
   "version": "3.6.5"
  }
 },
 "nbformat": 4,
 "nbformat_minor": 2
}
